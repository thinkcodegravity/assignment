{
  "nbformat": 4,
  "nbformat_minor": 0,
  "metadata": {
    "colab": {
      "provenance": [],
      "authorship_tag": "ABX9TyP3pkTBqyEg+ZQ+gl6/pYWs",
      "include_colab_link": true
    },
    "kernelspec": {
      "name": "python3",
      "display_name": "Python 3"
    },
    "language_info": {
      "name": "python"
    }
  },
  "cells": [
    {
      "cell_type": "markdown",
      "metadata": {
        "id": "view-in-github",
        "colab_type": "text"
      },
      "source": [
        "<a href=\"https://colab.research.google.com/github/thinkcodegravity/assignment/blob/main/Untitled2.ipynb\" target=\"_parent\"><img src=\"https://colab.research.google.com/assets/colab-badge.svg\" alt=\"Open In Colab\"/></a>"
      ]
    },
    {
      "cell_type": "code",
      "execution_count": 2,
      "metadata": {
        "colab": {
          "base_uri": "https://localhost:8080/"
        },
        "id": "ncPohf92YVLQ",
        "outputId": "b8e86a21-7340-4211-d7d5-b2ab69a612ff"
      },
      "outputs": [
        {
          "output_type": "stream",
          "name": "stdout",
          "text": [
            "Please enter Direction. Valid inputs are North or South:North\n",
            "Please enter Street Number:12\n",
            "Please enter Street type. Valid inputs are (\"Street\", \"Place\", \"Way\", \"Avenue\", \"Drive\", \"Lane\"):Street\n",
            "North 12th Street is 12 blocks east of Central Avenue and is North of Washington Street\n",
            "Preceding Way is North 11th Way\n"
          ]
        }
      ],
      "source": [
        "direction = input(\"Please enter Direction. Valid inputs are North or South:\")\n",
        "if direction not in [\"North\",\"South\"]:\n",
        "    print(\"Invalid direction\")\n",
        "street_number = int(input(\"Please enter Street Number:\"))\n",
        "street_type = input('''Please enter Street type. Valid inputs are (\"Street\", \"Place\", \"Way\", \"Avenue\", \"Drive\", \"Lane\"):''')\n",
        "if street_type not in [\"Street\",\"Place\",\"Way\",\"Avenue\",\"Drive\",\"Lane\"]:\n",
        "    print(\"Invalid street type\")\n",
        "\n",
        "ordinal = \"th\"\n",
        "if street_number in [11,12,13]:\n",
        "    ordinal = \"th\"\n",
        "else:\n",
        "    last_digit = street_number % 10\n",
        "    if last_digit == 1:\n",
        "        ordinal = \"st\"\n",
        "    elif last_digit == 2:\n",
        "        ordinal = \"nd\"\n",
        "    elif last_digit ==3:\n",
        "        ordinal = \"rd\"\n",
        "full_street_name = f'{direction} {street_number}{ordinal} {street_type}'\n",
        "\n",
        "if street_type in [\"Street\",\"Place\",\"Way\"]:\n",
        "    blocks = f'{street_number} blocks east'\n",
        "else:\n",
        "    blocks = f'{street_number} blocks west'\n",
        "print(f'{full_street_name} is {blocks} of Central Avenue and is {direction} of Washington Street')\n",
        "\n",
        "preceding_street_number = (street_number - 1) if street_type in [\"Street\",\"Avenue\"] else street_number\n",
        "\n",
        "if preceding_street_number == 0:\n",
        "    preceding_street = \"Central Street\"\n",
        "else:\n",
        "    if street_type == \"Street\":\n",
        "        preceding_street_type = \"Way\"\n",
        "    elif street_type == \"Way\":\n",
        "        preceding_street_type = \"Place\"\n",
        "    elif street_type == \"Place\":\n",
        "        preceding_street_type = \"Street\"\n",
        "    elif street_type == \"Avenue\":\n",
        "        preceding_street_type = \"Lane\"\n",
        "    elif street_type == \"Drive\":\n",
        "        preceding_street_type = \"Avenue\"\n",
        "    elif street_type == \"Lane\":\n",
        "        preceding_street_type = \"Drive\"\n",
        "\n",
        "    ordinal = \"th\"\n",
        "    if preceding_street_number in [11,12,13]:\n",
        "        ordinal = \"th\"\n",
        "    else:\n",
        "        last_digit = preceding_street_number % 10\n",
        "        if last_digit == 1:\n",
        "            ordinal = \"st\"\n",
        "        elif last_digit == 2:\n",
        "            ordinal = \"nd\"\n",
        "        elif last_digit ==3:\n",
        "            ordinal = \"rd\"\n",
        "    preceding_street = f'{direction} {preceding_street_number}{ordinal} {preceding_street_type}'\n",
        "print(f'Preceding {preceding_street_type} is {preceding_street}')"
      ]
    }
  ]
}