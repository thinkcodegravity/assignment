{
  "nbformat": 4,
  "nbformat_minor": 0,
  "metadata": {
    "colab": {
      "provenance": [],
      "authorship_tag": "ABX9TyM7kTeLLMgIktmwPt6ybEg7",
      "include_colab_link": true
    },
    "kernelspec": {
      "name": "python3",
      "display_name": "Python 3"
    },
    "language_info": {
      "name": "python"
    }
  },
  "cells": [
    {
      "cell_type": "markdown",
      "metadata": {
        "id": "view-in-github",
        "colab_type": "text"
      },
      "source": [
        "<a href=\"https://colab.research.google.com/github/thinkcodegravity/assignment/blob/main/Pair_Programming_Assignment_1.ipynb\" target=\"_parent\"><img src=\"https://colab.research.google.com/assets/colab-badge.svg\" alt=\"Open In Colab\"/></a>"
      ]
    },
    {
      "cell_type": "markdown",
      "source": [
        "This is a campus snack stand program pseudocode...\n",
        "Variables are:\n",
        "item_name(string),unit_price(float),quantity(int),is_student(boolean),subtotal(float),discount(float),sales_tax(float),coupon_code(string)\n",
        "\n",
        "\n",
        "Pseudocode:\n",
        "\n",
        "1. Ask user for item name,unit price, quantity and if the user is a student of not.\n",
        "2. If the quantity is less than or equal to 0 or the price is less than \\$0,print error message and end program.\n",
        "3. Apply 10% discount if the user is a student and the total price is greater than or equal to \\$20.\n",
        "4. Ask user for coupon code.\n",
        "5. I coupon is valid(ie is it in the list of valid coupon codes), then apply \\$2 discount on the total price.\n",
        "6. If the total price is less than 0, then cap it as 0, ie make is $0\n",
        "7. Apply sales tax of 8.25% on the total after discount\n",
        "8. Print the receipt\n",
        "\n",
        "\n",
        "\n"
      ],
      "metadata": {
        "id": "_bQEQZp7YG7B"
      }
    },
    {
      "cell_type": "code",
      "source": [
        "#Author:Aayushma Pokharel\n",
        "#Pair Programming with:Prathiba Venkatesh\n",
        "#College Snack Stand program\n",
        "\n",
        "#Step 1:take input from user\n",
        "\n",
        "item_name = input(\"Enter the item name: \")\n",
        "unit_price = float(input(\"Enter the unit price: \"))\n",
        "quantity = int(input(\"Enter the quantity: \"))\n",
        "\n",
        "if quantity < 0 or unit_price <= 0:\n",
        "  print(\"Error: Quantity and unit price cannot be negative\")\n",
        "  exit()\n",
        "\n",
        "is_student = input(\"Are you a student? (y/n): \")\n",
        "if is_student == \"y\":\n",
        "  is_student = True\n",
        "else:\n",
        "  is_student = False\n",
        "\n",
        "sub_total = unit_price * quantity\n",
        "\n",
        "student_discount = 0\n",
        "coupon_discount = 0.0\n",
        "#Check if the discount is applicable on the sale\n",
        "\n",
        "if is_student and sub_total >=20 :\n",
        "  student_discount = sub_total * 0.1\n",
        "coupon_code = input(\"Enter the coupon code: \")\n",
        "if coupon_code == \"SAVE2\":\n",
        "  coupon_discount += 2.0\n",
        "total_price = sub_total - student_discount - coupon_discount\n",
        "if total_price < 0:\n",
        "  total_price = 0.0\n",
        "sales_tax = total_price * 0.0825\n",
        "total_price = total_price + sales_tax\n",
        "\n",
        "#Print the receipt\n",
        "\n",
        "print(\"----------Campus Snacks Stand-----------\")\n",
        "print(\"Item:\", item_name)\n",
        "print(\"QTY:\", quantity,\"@$%0.2f\"%unit_price)\n",
        "print(\"Subtotal:$%0.2f\"%sub_total)\n",
        "print(\"Student Discount:-$%0.2f\"%student_discount)\n",
        "print(\"Coupon Discount:-$%0.2f\"%coupon_discount)\n",
        "print(\"Tax(8.25%%):$%0.2f\"%sales_tax)\n",
        "print(\"TOTAL:$%0.2f\"%total_price)\n",
        "print(\"Thank You!\")\n"
      ],
      "metadata": {
        "colab": {
          "base_uri": "https://localhost:8080/",
          "height": 0
        },
        "id": "HJrrEjNQYMcy",
        "outputId": "5dc17b70-2ae1-4f81-e6be-1f7ca748ab65"
      },
      "execution_count": 1,
      "outputs": [
        {
          "output_type": "stream",
          "name": "stdout",
          "text": [
            "Enter the item name: Trail Mix\n",
            "Enter the unit price: 3.5\n",
            "Enter the quantity: 7\n",
            "Are you a student? (y/n): y\n",
            "Enter the coupon code: \n",
            "----------Campus Snacks Stand-----------\n",
            "Item: Trail Mix\n",
            "QTY: 7 @$3.50\n",
            "Subtotal:$24.50\n",
            "Student Discount:-$2.45\n",
            "Coupon Discount:-$0.00\n",
            "Tax(8.25%):$1.82\n",
            "TOTAL:$23.87\n",
            "Thank You!\n"
          ]
        }
      ]
    }
  ]
}