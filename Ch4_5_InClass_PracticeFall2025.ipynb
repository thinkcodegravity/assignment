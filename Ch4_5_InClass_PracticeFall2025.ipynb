{
  "cells": [
    {
      "cell_type": "markdown",
      "metadata": {
        "id": "view-in-github",
        "colab_type": "text"
      },
      "source": [
        "<a href=\"https://colab.research.google.com/github/thinkcodegravity/assignment/blob/main/Ch4_5_InClass_PracticeFall2025.ipynb\" target=\"_parent\"><img src=\"https://colab.research.google.com/assets/colab-badge.svg\" alt=\"Open In Colab\"/></a>"
      ]
    },
    {
      "cell_type": "markdown",
      "metadata": {
        "id": "LZx1sVDpbKRD"
      },
      "source": [
        "# Python Chapters 4 & 5 — In-Class Practice Notebook\n",
        "\n",
        "**Ch. 4:** Strings & Text Files • **Ch. 5:** Lists & Dictionaries  \n",
        "**Your Name:*Aayushma Pokharel*\n"
      ],
      "id": "LZx1sVDpbKRD"
    },
    {
      "cell_type": "markdown",
      "metadata": {
        "id": "Qfv2FPj5bKRE"
      },
      "source": [
        "## 4.1 String Basics: literals, indexing, slicing, length\n",
        "\n",
        "Strings are immutable sequences of Unicode characters.\n",
        "\n",
        "**Key ideas**\n",
        "- Quotes: single `'...'`, double `\"...\"`, triple for multi-line\n",
        "- Indexing (0-based) and slicing `s[start:stop:step]`\n",
        "- `len(s)` counts characters\n"
      ],
      "id": "Qfv2FPj5bKRE"
    },
    {
      "cell_type": "code",
      "metadata": {
        "id": "33i6ZjWwbKRF",
        "colab": {
          "base_uri": "https://localhost:8080/"
        },
        "outputId": "56bf1d1c-dd71-454c-e7e9-6ff96f339d6d"
      },
      "execution_count": null,
      "outputs": [
        {
          "output_type": "stream",
          "name": "stdout",
          "text": [
            "Hello World\n",
            "Multi-line\n",
            "string example\n",
            "S y\n",
            "cra\n",
            "rap\n",
            "Scra ppy\n",
            "ypparcS\n",
            "7\n"
          ]
        }
      ],
      "source": [
        "# TODO: Create a few string literals and practice indexing/slicing\n",
        "# 1) Make a variable named course = \"BCIS 3610\"\n",
        "# 2) Print the first and last character\n",
        "# 3) Slice the department code and the number\n",
        "\n",
        "#string literals\n",
        "s1 = \"Hello\"\n",
        "s2 = \"World\"\n",
        "s3 = '''Multi-line\n",
        "string example'''\n",
        "\n",
        "print(s1,s2)\n",
        "print(s3)\n",
        "\n",
        "#indexing a slicing\n",
        "\n",
        "name = \"Scrappy\"\n",
        "print(name[0],name[-1])         #first (s) and last char (y)\n",
        "print(name[1:4])                #'cra'\n",
        "print(name[2:5])\n",
        "print(name[:4], name[4:])\n",
        "print(name[::-1])\n",
        "\n",
        "#length\n",
        "print(len(name))\n",
        "\n"
      ],
      "id": "33i6ZjWwbKRF"
    },
    {
      "cell_type": "markdown",
      "metadata": {
        "id": "nl81HN-hbKRF"
      },
      "source": [
        "## 4.2 Common String Methods & Membership\n",
        "\n",
        "Useful methods: `.lower()`, `.upper()`, `.strip()`, `.replace(a,b)`, `.split()`, `.join(iterable)`  \n",
        "Membership and searching: `in`, `.find()`, `.count()`."
      ],
      "id": "nl81HN-hbKRF"
    },
    {
      "cell_type": "code",
      "metadata": {
        "id": "LvG1qE_mbKRG",
        "colab": {
          "base_uri": "https://localhost:8080/"
        },
        "outputId": "49f54609-6745-46dd-b89b-efbc04b04256"
      },
      "execution_count": null,
      "outputs": [
        {
          "output_type": "stream",
          "name": "stdout",
          "text": [
            "    python make teaching fun!    \n",
            "    PYTHON MAKE TEACHING FUN!    \n",
            "Python make teaching FUN!\n",
            "    Python make teaching impactful!    \n",
            "['Python', 'make', 'teaching', 'FUN!']\n",
            "Python | make | teaching | FUN!\n",
            "True\n",
            "16\n",
            "2\n"
          ]
        }
      ],
      "source": [
        "# TODO: Try at least three string methods on your own message\n",
        "# Example ideas: lower, upper, strip, replace, split, join, count, find\n",
        "\n",
        "msg = \"    Python make teaching FUN!    \"\n",
        "print(msg.lower())\n",
        "print(msg.upper())\n",
        "print(msg.strip())\n",
        "print(msg.replace(\"FUN\", \"impactful\"))\n",
        "\n",
        "#split & join\n",
        "words = msg.split()\n",
        "print(words)\n",
        "\n",
        "joined = \" | \".join(words)\n",
        "print(joined)\n",
        "\n",
        "#search\n",
        "print(\"Python\" in msg)\n",
        "print(msg.find(\"teach\"))\n",
        "print(msg.count(\"n\"))\n",
        "\n",
        "\n"
      ],
      "id": "LvG1qE_mbKRG"
    },
    {
      "cell_type": "markdown",
      "metadata": {
        "id": "kGfbZDHVbKRH"
      },
      "source": [
        "## 4.3 String Formatting: f-strings & format()\n",
        "\n",
        "Prefer f-strings for clarity. You can include expressions inside `{}`.  \n",
        "Example: `f\"{x:.2f}\"` for 2 decimal places."
      ],
      "id": "kGfbZDHVbKRH"
    },
    {
      "cell_type": "code",
      "metadata": {
        "id": "PLz-BhI8bKRI",
        "colab": {
          "base_uri": "https://localhost:8080/"
        },
        "outputId": "1f433e15-6519-4e64-e5a5-aed83b77870a"
      },
      "execution_count": null,
      "outputs": [
        {
          "output_type": "stream",
          "name": "stdout",
          "text": [
            "Student Joshua score is 95.7%\n",
            "Total cost: $36.00\n"
          ]
        }
      ],
      "source": [
        "# TODO: Use an f-string to print your name and a calculated value (e.g., tip, tax, GPA)\n",
        "student = \"Joshua\"\n",
        "score = 95.65\n",
        "print(f\"Student {student} score is {score:.1f}%\")\n",
        "\n",
        "items = 8\n",
        "price = 4.5\n",
        "print(f\"Total cost: ${items * price:.2f}\")"
      ],
      "id": "PLz-BhI8bKRI"
    },
    {
      "cell_type": "markdown",
      "metadata": {
        "id": "7Fszw29ybKRI"
      },
      "source": [
        "## 4.4 Reading Text Files (with open)\n",
        "\n",
        "Use a context manager `with open(path, 'r', encoding='utf-8') as f:`.  \n",
        "Read all text with `.read()`, line by line with a `for` loop, or into a list with `.readlines()`."
      ],
      "id": "7Fszw29ybKRI"
    },
    {
      "cell_type": "code",
      "metadata": {
        "id": "KqtCwUipbKRJ",
        "colab": {
          "base_uri": "https://localhost:8080/"
        },
        "outputId": "4fa480c1-1557-482b-aa58-15e86d70e84a"
      },
      "execution_count": null,
      "outputs": [
        {
          "output_type": "stream",
          "name": "stdout",
          "text": [
            "First line\n",
            "Second line\n",
            "Third line\n",
            "\n"
          ]
        }
      ],
      "source": [
        "# TODO: Read a file using with-open and print each line with a line number\n",
        "# Hint: for i, line in enumerate(f, start=1):\n",
        "\n",
        "#create a sample file to read\n",
        "sample_text = \"\"\"First line\n",
        "Second line\n",
        "Third line\n",
        "\"\"\"\n",
        "with open('sample.txt', 'w') as f:\n",
        "    f.write(sample_text)\n",
        "\n",
        "#read the whole file\n",
        "with open('sample.txt', 'r') as f:\n",
        "    print(f.read())"
      ],
      "id": "KqtCwUipbKRJ"
    },
    {
      "cell_type": "markdown",
      "metadata": {
        "id": "dnQu4YtCbKRK"
      },
      "source": [
        "## 4.5 Writing Text Files & Append Mode\n",
        "\n",
        "Open with `'w'` to overwrite or `'a'` to append. Always include an explicit encoding when possible."
      ],
      "id": "dnQu4YtCbKRK"
    },
    {
      "cell_type": "code",
      "metadata": {
        "id": "k4fm4jWAbKRL",
        "colab": {
          "base_uri": "https://localhost:8080/"
        },
        "outputId": "4f4b6253-d2e7-4dce-efa5-4fd9fdaefd1c"
      },
      "execution_count": null,
      "outputs": [
        {
          "output_type": "stream",
          "name": "stdout",
          "text": [
            "Session start\n",
            "Event #1\n",
            "Event #2\n",
            "Event #3\n",
            "Session end\n",
            "\n"
          ]
        }
      ],
      "source": [
        "# TODO: Open a file in write mode, write a header line, then append two additional lines\n",
        "#write new file\n",
        "\n",
        "with open('log.txt', \"w\") as f:\n",
        "  f.write(\"Session start\\n\")\n",
        "  for n in range(3):\n",
        "    f.write(f\"Event #{n+1}\\n\")\n",
        "#Append to file\n",
        "with open('log.txt', \"a\") as f:\n",
        "  f.write(\"Session end\\n\")\n",
        "\n",
        "#verify\n",
        "with open('log.txt', \"r\") as f:\n",
        "  print(f.read())\n"
      ],
      "id": "k4fm4jWAbKRL"
    },
    {
      "cell_type": "markdown",
      "metadata": {
        "id": "QvcyzsMZbKRL"
      },
      "source": [
        "## 4.6 Basic CSV Reading (no external libs)\n",
        "\n",
        "A CSV is just text with comma-separated values. You can split lines with `.split(',')`. (Later you can use `csv` or `pandas`.)"
      ],
      "id": "QvcyzsMZbKRL"
    },
    {
      "cell_type": "code",
      "metadata": {
        "id": "HCLwgQMnbKRL"
      },
      "execution_count": null,
      "outputs": [],
      "source": [
        "# TODO: Read 'scores.csv' (or create your own), parse lines with split(',') and compute the average\n"
      ],
      "id": "HCLwgQMnbKRL"
    },
    {
      "cell_type": "markdown",
      "metadata": {
        "id": "oboRYk0ebKRM"
      },
      "source": [
        "## 5.1 List Basics: literals, indexing, slicing, mutability\n",
        "\n",
        "Lists are mutable ordered sequences. Use square brackets `[]` or `list()`."
      ],
      "id": "oboRYk0ebKRM"
    },
    {
      "cell_type": "code",
      "metadata": {
        "id": "V5_whj1pbKRM"
      },
      "execution_count": null,
      "outputs": [],
      "source": [
        "# TODO: Create a list of three strings and modify the middle element\n"
      ],
      "id": "V5_whj1pbKRM"
    },
    {
      "cell_type": "markdown",
      "metadata": {
        "id": "dCl2IAXQbKRM"
      },
      "source": [
        "## 5.2 List Methods: append, extend, insert, remove, pop, sort, reverse\n",
        "\n",
        "Practice the most common list methods and note which ones mutate the list and which return values."
      ],
      "id": "dCl2IAXQbKRM"
    },
    {
      "cell_type": "code",
      "metadata": {
        "id": "m6LpMEinbKRM",
        "colab": {
          "base_uri": "https://localhost:8080/"
        },
        "outputId": "9b70a6a5-cde5-481d-b0f8-bf065f0bfd91"
      },
      "execution_count": null,
      "outputs": [
        {
          "output_type": "stream",
          "name": "stdout",
          "text": [
            "['apple', 'cherry']\n",
            "['apple', 'cherry', 'watermelon']\n",
            "['apple', 'cherry', 'watermelon', 'Kiwi', 'orange']\n",
            "['apple', 'Peach', 'cherry', 'watermelon', 'Kiwi', 'orange']\n",
            "['apple', 'Peach', 'cherry', 'watermelon', 'orange']\n",
            "popped: orange\n",
            "sorted: ['Peach', 'apple', 'cherry', 'watermelon']\n",
            "reversed ['watermelon', 'cherry', 'apple', 'Peach']\n"
          ]
        }
      ],
      "source": [
        "# TODO: Start with a list, try append/extend/insert/remove/pop/sort/reverse and print after each step\n",
        "fruits = [\"apple\", \"cherry\"]\n",
        "print(fruits)\n",
        "fruits.append(\"watermelon\")   #append is a new list\n",
        "print(fruits)\n",
        "fruits.extend([\"Kiwi\", \"orange\"])\n",
        "print(fruits)\n",
        "fruits.insert(1, \"Peach\")\n",
        "print(fruits)\n",
        "\n",
        "fruits.remove(\"Kiwi\")\n",
        "print(fruits)\n",
        "\n",
        "last = (fruits.pop()) #remove last\n",
        "print(\"popped:\",last)\n",
        "\n",
        "fruits.sort()\n",
        "print(\"sorted:\",fruits)\n",
        "\n",
        "fruits.reverse()\n",
        "print(\"reversed\",fruits)"
      ],
      "id": "m6LpMEinbKRM"
    },
    {
      "cell_type": "markdown",
      "metadata": {
        "id": "vGvRgqd-bKRM"
      },
      "source": [
        "## 5.3 Looping & Accumulation with Lists\n",
        "\n",
        "Use `for ... in` loops to accumulate values. Remember the running-total pattern."
      ],
      "id": "vGvRgqd-bKRM"
    },
    {
      "cell_type": "code",
      "metadata": {
        "id": "9zbG27qdbKRN",
        "colab": {
          "base_uri": "https://localhost:8080/"
        },
        "outputId": "a9125292-62ba-4305-a645-35e46cfb3c93"
      },
      "execution_count": null,
      "outputs": [
        {
          "output_type": "stream",
          "name": "stdout",
          "text": [
            "Average: 82.8\n",
            "Great Job: [80, 92, 83]\n"
          ]
        }
      ],
      "source": [
        "# TODO: Given a list of numbers, compute: sum, average, and a new list of values >= threshold\n",
        "scores = [80, 76, 92, 83]\n",
        "#average\n",
        "total = 0\n",
        "for s in scores:\n",
        "  total += s        #total = total + s\n",
        "  #avg= total/len(scores)\n",
        "  #print(f\"Average = {avg:.1f}\")\n",
        "print(f\"Average: {total/len(scores):.1f}\")\n",
        "\n",
        "#filter and build a new list\n",
        "passed = []\n",
        "for s in scores:\n",
        "  if s >= 80:\n",
        "    passed.append(s)\n",
        "print(f\"Great Job: {passed}\")"
      ],
      "id": "9zbG27qdbKRN"
    },
    {
      "cell_type": "markdown",
      "metadata": {
        "id": "6uN7sk5bbKRN"
      },
      "source": [
        "## 5.4 List Comprehensions\n",
        "\n",
        "Compact syntax for building lists from iterables: `[expr for x in data if condition]`."
      ],
      "id": "6uN7sk5bbKRN"
    },
    {
      "cell_type": "code",
      "metadata": {
        "id": "sFHiZtt4bKRN"
      },
      "execution_count": null,
      "outputs": [],
      "source": [
        "# TODO: Build a list of cubes for 1..10 and another list with only multiples of 3\n"
      ],
      "id": "sFHiZtt4bKRN"
    },
    {
      "cell_type": "markdown",
      "metadata": {
        "id": "nhjajaH1bKRN"
      },
      "source": [
        "## 5.5 Dictionary Basics: literals, access, add/update, delete\n",
        "\n",
        "Dictionaries map keys to values. Keys must be hashable (e.g., strings, numbers, tuples)."
      ],
      "id": "nhjajaH1bKRN"
    },
    {
      "cell_type": "code",
      "metadata": {
        "id": "cFaAyWf5bKRN"
      },
      "execution_count": null,
      "outputs": [],
      "source": [
        "# TODO: Create a dictionary for a product (name, price, qty). Update price and add a 'category' key, then remove one key\n"
      ],
      "id": "cFaAyWf5bKRN"
    },
    {
      "cell_type": "markdown",
      "metadata": {
        "id": "fN8CbqfbbKRO"
      },
      "source": [
        "## 5.6 Looping over Dictionaries: keys, values, items\n",
        "\n",
        "Iterate with `.keys()`, `.values()`, or `.items()` (key, value pairs)."
      ],
      "id": "fN8CbqfbbKRO"
    },
    {
      "cell_type": "code",
      "metadata": {
        "id": "BqMdToCXbKRO"
      },
      "execution_count": null,
      "outputs": [],
      "source": [
        "# TODO: Loop over a dictionary printing keys, values, and key:value pairs in nicely formatted strings\n"
      ],
      "id": "BqMdToCXbKRO"
    },
    {
      "cell_type": "markdown",
      "metadata": {
        "id": "USjKReoMbKRO"
      },
      "source": [
        "## 5.7 Dictionary Patterns: counting & grouping\n",
        "\n",
        "Classic pattern: counting occurrences with a dictionary. (Later you'll see `collections.Counter`.)"
      ],
      "id": "USjKReoMbKRO"
    },
    {
      "cell_type": "code",
      "metadata": {
        "id": "wHYZTn7-bKRO"
      },
      "execution_count": null,
      "outputs": [],
      "source": [
        "# TODO: Given a sentence, count the occurrences of each word using dict.get\n"
      ],
      "id": "wHYZTn7-bKRO"
    },
    {
      "cell_type": "markdown",
      "metadata": {
        "id": "-V_wjzHObKRO"
      },
      "source": [
        "## Wrap-Up Mini-Lab\n",
        "\n",
        "**Goal:** Read `scores.csv`, compute average & highest, then write a summary file `summary.txt` with the results.  \n",
        "Stretch: Build a dictionary mapping each initial letter to a list of names from the CSV."
      ],
      "id": "-V_wjzHObKRO"
    },
    {
      "cell_type": "code",
      "metadata": {
        "id": "dvUqEqGTbKRO"
      },
      "execution_count": null,
      "outputs": [],
      "source": [
        "# TODO: Implement the mini-lab per the description above\n"
      ],
      "id": "dvUqEqGTbKRO"
    }
  ],
  "metadata": {
    "kernelspec": {
      "display_name": "Python 3",
      "language": "python",
      "name": "python3"
    },
    "language_info": {
      "name": "python",
      "version": "3.x"
    },
    "colab": {
      "provenance": [],
      "include_colab_link": true
    }
  },
  "nbformat": 4,
  "nbformat_minor": 5
}