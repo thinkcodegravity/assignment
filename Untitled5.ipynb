{
  "nbformat": 4,
  "nbformat_minor": 0,
  "metadata": {
    "colab": {
      "provenance": [],
      "authorship_tag": "ABX9TyOPojOrCyRL4qUKSXlGxGJU",
      "include_colab_link": true
    },
    "kernelspec": {
      "name": "python3",
      "display_name": "Python 3"
    },
    "language_info": {
      "name": "python"
    }
  },
  "cells": [
    {
      "cell_type": "markdown",
      "metadata": {
        "id": "view-in-github",
        "colab_type": "text"
      },
      "source": [
        "<a href=\"https://colab.research.google.com/github/thinkcodegravity/assignment/blob/main/Untitled5.ipynb\" target=\"_parent\"><img src=\"https://colab.research.google.com/assets/colab-badge.svg\" alt=\"Open In Colab\"/></a>"
      ]
    },
    {
      "cell_type": "code",
      "execution_count": 2,
      "metadata": {
        "colab": {
          "base_uri": "https://localhost:8080/"
        },
        "id": "RBr1ozj1hMyP",
        "outputId": "dffd1975-7cb7-42cd-b3dd-f67359d82cc2"
      },
      "outputs": [
        {
          "output_type": "stream",
          "name": "stdout",
          "text": [
            "North 3rd Way is 3 blocks east of Central Avenue and is north of Washington Street.\n",
            "The preceding street is: North 3rd Place\n"
          ]
        }
      ],
      "source": [
        "def ordinal(n):\n",
        "    \"\"\"\n",
        "    Convert a number to its ordinal string.\n",
        "    e.g., 1 -> 1st, 2 -> 2nd, 3 -> 3rd, 4 -> 4th, etc.\n",
        "    \"\"\"\n",
        "    if 11 <= n <= 13:\n",
        "        return f\"{n}th\"\n",
        "    else:\n",
        "        return {\n",
        "            1: f\"{n}st\",\n",
        "            2: f\"{n}nd\",\n",
        "            3: f\"{n}rd\",\n",
        "        }.get(n % 10, f\"{n}th\")\n",
        "\n",
        "def streets(direction, number, st_type):\n",
        "    \"\"\"\n",
        "    Determine street location in Phoenix grid.\n",
        "    Returns a dictionary with the street info and preceding street.\n",
        "    \"\"\"\n",
        "    east_types = [\"Street\", \"Place\", \"Way\"]\n",
        "    west_types = [\"Avenue\", \"Drive\", \"Lane\"]\n",
        "\n",
        "    direction = direction.strip().title()\n",
        "    st_type = st_type.strip().title()\n",
        "\n",
        "    # Determine east/west\n",
        "    if st_type in east_types:\n",
        "        orientation = \"east\"\n",
        "        type_seq = east_types\n",
        "        first_type = \"Street\"\n",
        "        desc = \"Street\"\n",
        "    elif st_type in west_types:\n",
        "        orientation = \"west\"\n",
        "        type_seq = west_types\n",
        "        first_type = \"Avenue\"\n",
        "        desc = \"Avenue\"\n",
        "    else:\n",
        "        return {\"error\": \"Invalid street type. Use: Street, Place, Way, Avenue, Drive, or Lane.\"}\n",
        "\n",
        "    position = \"north\" if direction == \"North\" else \"south\"\n",
        "\n",
        "    # Find preceding street\n",
        "    idx = type_seq.index(st_type)\n",
        "    if idx == 0:\n",
        "        prev_number = number - 1\n",
        "        if prev_number < 1:\n",
        "            preceding = \"N/A\"\n",
        "        else:\n",
        "            preceding = f\"{direction} {ordinal(prev_number)} {first_type}\"\n",
        "    else:\n",
        "        preceding = f\"{direction} {ordinal(number)} {type_seq[idx - 1]}\"\n",
        "\n",
        "    return {\n",
        "        \"current\": f\"{direction} {ordinal(number)} {st_type}\",\n",
        "        \"orientation\": orientation,\n",
        "        \"position\": position,\n",
        "        \"preceding\": preceding,\n",
        "        \"message\": f\"{direction} {ordinal(number)} {st_type} is {number} blocks {orientation} of Central Avenue and is {position} of Washington Street.\",\n",
        "    }\n",
        "# Example usage:\n",
        "result = streets(\"North\", 3, \"Way\")\n",
        "print(result[\"message\"])\n",
        "print(\"The preceding street is:\", result[\"preceding\"])"
      ]
    }
  ]
}