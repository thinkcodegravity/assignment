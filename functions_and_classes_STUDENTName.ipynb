{
  "cells": [
    {
      "cell_type": "markdown",
      "metadata": {
        "id": "view-in-github",
        "colab_type": "text"
      },
      "source": [
        "<a href=\"https://colab.research.google.com/github/thinkcodegravity/assignment/blob/main/functions_and_classes_STUDENTName.ipynb\" target=\"_parent\"><img src=\"https://colab.research.google.com/assets/colab-badge.svg\" alt=\"Open In Colab\"/></a>"
      ]
    },
    {
      "cell_type": "markdown",
      "id": "93dbda43",
      "metadata": {
        "id": "93dbda43"
      },
      "source": [
        "# Functions & Classes Practice — Python\n",
        "**Your Name:**\n",
        "Aayushma Pokharel\n",
        "Prathiba Venkatesh"
      ]
    },
    {
      "cell_type": "markdown",
      "id": "f243fba4",
      "metadata": {
        "id": "f243fba4"
      },
      "source": [
        "## Quick notes refresher\n",
        "\n",
        "**Functions**\n",
        "- Define with `def name(params):` and return results with `return`.\n",
        "- A function that doesn't `return` explicitly returns `None`.\n",
        "- Parameters are local to the function (scope).\n",
        "\n",
        "**Classes**\n",
        "- A class bundles data (**attributes**) and behavior (**methods**).\n",
        "- `__init__(self, ...)` runs when you create an object. Use it to set attributes.\n",
        "- Use `self.attribute` inside methods to read/write object state.\n",
        "- **Free functions vs. methods**\n",
        "  - Use a **method** when the behavior *belongs to the object* and needs its state.\n",
        "  - Use a **free function** when the behavior *combines multiple objects* or doesn't need internal state.\n"
      ]
    },
    {
      "cell_type": "markdown",
      "id": "ff285a7c",
      "metadata": {
        "id": "ff285a7c"
      },
      "source": [
        "## Part 1 — Function Warm‑ups"
      ]
    },
    {
      "cell_type": "markdown",
      "id": "27a461a6",
      "metadata": {
        "id": "27a461a6"
      },
      "source": [
        "**1) Hello helper**  \n",
        "Write a function `greet(name)` that returns `\"Hello, <name>!\"`.\n"
      ]
    },
    {
      "cell_type": "code",
      "execution_count": 2,
      "id": "67fea50d",
      "metadata": {
        "id": "67fea50d",
        "colab": {
          "base_uri": "https://localhost:8080/",
          "height": 0
        },
        "outputId": "69328481-d06a-40e6-dbf2-9b2dea7b56b2"
      },
      "outputs": [
        {
          "output_type": "stream",
          "name": "stdout",
          "text": [
            "Hello, Prathiba!\n"
          ]
        }
      ],
      "source": [
        "def greet(name):\n",
        "    # TODO: return a friendly greeting string\n",
        "    return f\"Hello, {name}!\"\n",
        "\n",
        "# Try it\n",
        "print(greet(\"Prathiba\"))\n",
        "# Expected Output: Hello, Melody!"
      ]
    },
    {
      "cell_type": "markdown",
      "id": "b63baa78",
      "metadata": {
        "id": "b63baa78"
      },
      "source": [
        "**2) Even summer**  \n",
        "Write `sum_even(nums)` that returns the sum of the even integers in a list.\n"
      ]
    },
    {
      "cell_type": "code",
      "execution_count": 3,
      "id": "63ce8f79",
      "metadata": {
        "id": "63ce8f79",
        "colab": {
          "base_uri": "https://localhost:8080/",
          "height": 0
        },
        "outputId": "a4c9cf30-bc38-42ec-84b3-f9c8c5a5f263"
      },
      "outputs": [
        {
          "output_type": "stream",
          "name": "stdout",
          "text": [
            "12\n"
          ]
        }
      ],
      "source": [
        "# Your turn:\n",
        "\n",
        "def sum_even(nums):\n",
        "    # TODO: add up even numbers only\n",
        "    total = 0\n",
        "    for n in nums:\n",
        "        if n % 2 == 0:\n",
        "            total += n\n",
        "    return total\n",
        "\n",
        "# Try it\n",
        "print(sum_even([1, 2, 3, 4, 5, 6]))"
      ]
    },
    {
      "cell_type": "markdown",
      "id": "11c53896",
      "metadata": {
        "id": "11c53896"
      },
      "source": [
        "**3) Temperature conversion**  \n",
        "Write `to_celsius(f)` that converts Fahrenheit to Celsius using `C = (F - 32) * 5/9`.\n"
      ]
    },
    {
      "cell_type": "code",
      "execution_count": 4,
      "id": "4287be90",
      "metadata": {
        "id": "4287be90",
        "colab": {
          "base_uri": "https://localhost:8080/",
          "height": 0
        },
        "outputId": "e9355916-6628-4c4f-de17-6aa73785816d"
      },
      "outputs": [
        {
          "output_type": "stream",
          "name": "stdout",
          "text": [
            "25.0\n"
          ]
        }
      ],
      "source": [
        "# Your turn:\n",
        "\n",
        "def to_celsius(f):\n",
        "    # TODO: return celsius value\n",
        "    return (f - 32) * 5 / 9\n",
        "\n",
        "# Try it\n",
        "print(to_celsius(77))"
      ]
    },
    {
      "cell_type": "markdown",
      "id": "0604dacb",
      "metadata": {
        "id": "0604dacb"
      },
      "source": [
        "## Part 2 — Classes"
      ]
    },
    {
      "cell_type": "markdown",
      "id": "c418ce4a",
      "metadata": {
        "id": "c418ce4a"
      },
      "source": [
        "\n",
        "\n",
        "### Exercise A — BankAccount\n",
        "- Create a class `BankAccount` with attributes `owner` (str) and `balance` (float, default 0).\n",
        "- Methods: `deposit(amount)`, `withdraw(amount)` (no negative balances), `__repr__` for nice printing.\n",
        "- Write a function not in a class (free function)`apply_interest(account, rate)` that updates an account by a rate (e.g., `0.02` for 2%).\n",
        "\n",
        "*Stretch:* Add a `@classmethod` named `from_opening_bonus(owner, bonus)` that starts with a bonus.\n"
      ]
    },
    {
      "cell_type": "code",
      "execution_count": 5,
      "id": "b38703c8",
      "metadata": {
        "id": "b38703c8",
        "colab": {
          "base_uri": "https://localhost:8080/",
          "height": 0
        },
        "outputId": "6373488a-fd19-47e2-a456-00caa46f2366"
      },
      "outputs": [
        {
          "output_type": "stream",
          "name": "stdout",
          "text": [
            "BankAccount(owner='Avery', balance=157.50)\n"
          ]
        }
      ],
      "source": [
        "# Your turn:\n",
        "\n",
        "class BankAccount:\n",
        "    def __init__(self, owner, balance=0.0):\n",
        "        self.owner = owner\n",
        "        self.balance = balance\n",
        "\n",
        "    def deposit(self, amount):\n",
        "        if amount > 0:\n",
        "            self.balance += amount\n",
        "        return self.balance\n",
        "\n",
        "    def withdraw(self, amount):\n",
        "        if 0 < amount <= self.balance:\n",
        "            self.balance -= amount\n",
        "        return self.balance\n",
        "\n",
        "    def __repr__(self):\n",
        "        return f\"BankAccount(owner='{self.owner}', balance={self.balance:.2f})\"\n",
        "\n",
        "    @classmethod\n",
        "    def from_opening_bonus(cls, owner, bonus):\n",
        "        return cls(owner, bonus)\n",
        "\n",
        "\n",
        "# Free function (not a method)\n",
        "def apply_interest(account, rate):\n",
        "    account.balance += account.balance * rate\n",
        "\n",
        "\n",
        "# Try it\n",
        "acc = BankAccount(\"Avery\", 100)\n",
        "deposit_result = acc.deposit(50)\n",
        "apply_interest(acc, 0.05)\n",
        "print(acc)  # Output: BankAccount(owner='Avery', balance=157.50)"
      ]
    },
    {
      "cell_type": "markdown",
      "id": "1004eedf",
      "metadata": {
        "id": "1004eedf"
      },
      "source": [
        "### Exercise B — Student & honor roll\n",
        "- Class `Student` with `name` and a list `grades`.\n",
        "- Methods: `add_grade(score)`, `average()` (returns `None` if no grades).\n",
        "free function`honor_roll(student, threshold=90)` → `True/False` using the student's average.\n"
      ]
    },
    {
      "cell_type": "code",
      "execution_count": 6,
      "id": "0061fb7d",
      "metadata": {
        "id": "0061fb7d",
        "colab": {
          "base_uri": "https://localhost:8080/",
          "height": 0
        },
        "outputId": "9515a421-7c29-4237-e741-e6716169cd2e"
      },
      "outputs": [
        {
          "output_type": "stream",
          "name": "stdout",
          "text": [
            "True\n"
          ]
        }
      ],
      "source": [
        "class Student:\n",
        "    def __init__(self, name):\n",
        "        self.name = name\n",
        "        self.grades = []\n",
        "\n",
        "    def add_grade(self, score):\n",
        "        self.grades.append(score)\n",
        "\n",
        "    def average(self):\n",
        "        if not self.grades:\n",
        "            return None\n",
        "        return sum(self.grades) / len(self.grades)\n",
        "\n",
        "    def __repr__(self):\n",
        "        return f\"Student(name='{self.name}', grades={self.grades})\"\n",
        "\n",
        "\n",
        "def honor_roll(student, threshold=90):\n",
        "    avg = student.average()\n",
        "    if avg is None:\n",
        "        return False\n",
        "    return avg >= threshold\n",
        "\n",
        "\n",
        "# Try it\n",
        "s = Student(\"Jordan\")\n",
        "s.add_grade(95)\n",
        "s.add_grade(85)\n",
        "print(honor_roll(s))  # Output: True"
      ]
    },
    {
      "cell_type": "markdown",
      "id": "ae428765",
      "metadata": {
        "id": "ae428765"
      },
      "source": [
        "### Exercise C — Rectangle relations\n",
        "- Class `Rectangle(w, h)` with `area()` and `perimeter()`.\n",
        "free function`fits_inside(inner, outer)` that returns `True` if `inner` fits within `outer` *without rotation*.\n"
      ]
    },
    {
      "cell_type": "code",
      "execution_count": 7,
      "id": "662f4752",
      "metadata": {
        "id": "662f4752",
        "colab": {
          "base_uri": "https://localhost:8080/",
          "height": 0
        },
        "outputId": "48b645e6-1e16-4b76-f183-d9047cb8946c"
      },
      "outputs": [
        {
          "output_type": "stream",
          "name": "stdout",
          "text": [
            "True\n",
            "False\n"
          ]
        }
      ],
      "source": [
        "class Rectangle:\n",
        "    def __init__(self, w, h):\n",
        "        self.w = w\n",
        "        self.h = h\n",
        "\n",
        "    def area(self):\n",
        "        return self.w * self.h\n",
        "\n",
        "    def perimeter(self):\n",
        "        return 2 * (self.w + self.h)\n",
        "\n",
        "    def __repr__(self):\n",
        "        return f\"Rectangle(w={self.w}, h={self.h})\"\n",
        "\n",
        "\n",
        "def fits_inside(inner, outer):\n",
        "    return inner.w <= outer.w and inner.h <= outer.h\n",
        "\n",
        "\n",
        "# Try it\n",
        "print(fits_inside(Rectangle(2, 3), Rectangle(3, 4)))  # Output: True\n",
        "print(fits_inside(Rectangle(5, 2), Rectangle(4, 3)))  # Output: False"
      ]
    },
    {
      "cell_type": "markdown",
      "id": "22e1cd81",
      "metadata": {
        "id": "22e1cd81"
      },
      "source": [
        "\n",
        "**Submission:** Upload your completed notebook to Canvas.\n"
      ]
    }
  ],
  "metadata": {
    "kernelspec": {
      "display_name": "Python 3",
      "language": "python",
      "name": "python3"
    },
    "language_info": {
      "name": "python",
      "version": "3.x"
    },
    "colab": {
      "provenance": [],
      "include_colab_link": true
    }
  },
  "nbformat": 4,
  "nbformat_minor": 5
}