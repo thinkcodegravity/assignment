{
  "nbformat": 4,
  "nbformat_minor": 0,
  "metadata": {
    "colab": {
      "provenance": [],
      "authorship_tag": "ABX9TyNuUUX5SjzjDj2Y2ZWI9QuJ",
      "include_colab_link": true
    },
    "kernelspec": {
      "name": "python3",
      "display_name": "Python 3"
    },
    "language_info": {
      "name": "python"
    }
  },
  "cells": [
    {
      "cell_type": "markdown",
      "metadata": {
        "id": "view-in-github",
        "colab_type": "text"
      },
      "source": [
        "<a href=\"https://colab.research.google.com/github/thinkcodegravity/assignment/blob/main/Numpy.ipynb\" target=\"_parent\"><img src=\"https://colab.research.google.com/assets/colab-badge.svg\" alt=\"Open In Colab\"/></a>"
      ]
    },
    {
      "cell_type": "code",
      "execution_count": 1,
      "metadata": {
        "id": "ENhGAp-6gg8L"
      },
      "outputs": [],
      "source": [
        "import numpy as np #so we can use the np short hand\n"
      ]
    },
    {
      "cell_type": "code",
      "source": [
        "#create an array (basically a list)\n",
        "data = np.random.rand(2,3,4)\n",
        "zeros = np.zeros((2,2,2))\n",
        "full = np.full((2,2,2),7)\n",
        "ones = np.ones((2,2,2))"
      ],
      "metadata": {
        "id": "cYuNVpP9hDau"
      },
      "execution_count": 3,
      "outputs": []
    },
    {
      "cell_type": "code",
      "source": [
        "data\n"
      ],
      "metadata": {
        "colab": {
          "base_uri": "https://localhost:8080/",
          "height": 0
        },
        "id": "5p2cUEQhh9An",
        "outputId": "66f53510-a1fe-42eb-bad6-1cda2c3ecfb4"
      },
      "execution_count": 14,
      "outputs": [
        {
          "output_type": "execute_result",
          "data": {
            "text/plain": [
              "array([[[0.92082538, 0.30203459, 0.42350625, 0.31173044],\n",
              "        [0.60872694, 0.3835505 , 0.3352022 , 0.54129841],\n",
              "        [0.43483467, 0.17100058, 0.71421267, 0.75991972]],\n",
              "\n",
              "       [[0.99444724, 0.15981081, 0.95880542, 0.45339381],\n",
              "        [0.3333393 , 0.67377029, 0.08132477, 0.12934951],\n",
              "        [0.78967047, 0.27825362, 0.14327686, 0.78422897]]])"
            ]
          },
          "metadata": {},
          "execution_count": 14
        }
      ]
    },
    {
      "cell_type": "code",
      "source": [
        "zeros"
      ],
      "metadata": {
        "colab": {
          "base_uri": "https://localhost:8080/",
          "height": 0
        },
        "id": "IzXwMlQUiUAx",
        "outputId": "62d5a434-8f87-4536-e651-11d9d37a5081"
      },
      "execution_count": 16,
      "outputs": [
        {
          "output_type": "execute_result",
          "data": {
            "text/plain": [
              "array([[[0., 0.],\n",
              "        [0., 0.]],\n",
              "\n",
              "       [[0., 0.],\n",
              "        [0., 0.]]])"
            ]
          },
          "metadata": {},
          "execution_count": 16
        }
      ]
    },
    {
      "cell_type": "code",
      "source": [
        "full"
      ],
      "metadata": {
        "colab": {
          "base_uri": "https://localhost:8080/",
          "height": 0
        },
        "id": "uI7Hg57wi3KF",
        "outputId": "80eddbce-13a1-4b64-cbb7-b22e3bdb3b37"
      },
      "execution_count": 17,
      "outputs": [
        {
          "output_type": "execute_result",
          "data": {
            "text/plain": [
              "array([[[7, 7],\n",
              "        [7, 7]],\n",
              "\n",
              "       [[7, 7],\n",
              "        [7, 7]]])"
            ]
          },
          "metadata": {},
          "execution_count": 17
        }
      ]
    },
    {
      "cell_type": "code",
      "source": [
        "ones"
      ],
      "metadata": {
        "colab": {
          "base_uri": "https://localhost:8080/",
          "height": 0
        },
        "id": "E_1gTrRSjAzZ",
        "outputId": "5de22e60-49b4-4dfc-d386-939b677e9fae"
      },
      "execution_count": 18,
      "outputs": [
        {
          "output_type": "execute_result",
          "data": {
            "text/plain": [
              "array([[[1., 1.],\n",
              "        [1., 1.]],\n",
              "\n",
              "       [[1., 1.],\n",
              "        [1., 1.]]])"
            ]
          },
          "metadata": {},
          "execution_count": 18
        }
      ]
    },
    {
      "cell_type": "code",
      "source": [
        "#create a custom array\n",
        "arr = np.array([[1,2,3,4],[5,6,7,8]])"
      ],
      "metadata": {
        "id": "08VsK-p5jKWe"
      },
      "execution_count": 19,
      "outputs": []
    },
    {
      "cell_type": "code",
      "source": [
        "arr"
      ],
      "metadata": {
        "colab": {
          "base_uri": "https://localhost:8080/",
          "height": 0
        },
        "id": "uUjF8WJ0jgCu",
        "outputId": "7a907284-5f54-41df-9a66-b21b87700071"
      },
      "execution_count": 20,
      "outputs": [
        {
          "output_type": "execute_result",
          "data": {
            "text/plain": [
              "array([[1, 2, 3, 4],\n",
              "       [5, 6, 7, 8]])"
            ]
          },
          "metadata": {},
          "execution_count": 20
        }
      ]
    },
    {
      "cell_type": "code",
      "source": [
        "type(arr)"
      ],
      "metadata": {
        "colab": {
          "base_uri": "https://localhost:8080/",
          "height": 0
        },
        "id": "PVGrebjxkCdZ",
        "outputId": "870c5b81-9353-4fad-b0b6-07b982867bcd"
      },
      "execution_count": 21,
      "outputs": [
        {
          "output_type": "execute_result",
          "data": {
            "text/plain": [
              "numpy.ndarray"
            ]
          },
          "metadata": {},
          "execution_count": 21
        }
      ]
    },
    {
      "cell_type": "code",
      "source": [
        "#read array\n",
        "#look at attributes\n",
        "shape =  data.shape\n",
        "size = data.size\n",
        "types = data.dtype"
      ],
      "metadata": {
        "id": "K7t38676nfPU"
      },
      "execution_count": 22,
      "outputs": []
    },
    {
      "cell_type": "code",
      "source": [
        "shape"
      ],
      "metadata": {
        "colab": {
          "base_uri": "https://localhost:8080/",
          "height": 0
        },
        "id": "dSFOqGXmnmiA",
        "outputId": "4b649443-b736-447a-f4b2-eb2126b25849"
      },
      "execution_count": 24,
      "outputs": [
        {
          "output_type": "execute_result",
          "data": {
            "text/plain": [
              "(2, 3, 4)"
            ]
          },
          "metadata": {},
          "execution_count": 24
        }
      ]
    },
    {
      "cell_type": "code",
      "source": [
        "size"
      ],
      "metadata": {
        "colab": {
          "base_uri": "https://localhost:8080/",
          "height": 0
        },
        "id": "SKuLamBlnytU",
        "outputId": "c361683b-48c4-49fc-b6cd-9f1e04d3a4de"
      },
      "execution_count": 25,
      "outputs": [
        {
          "output_type": "execute_result",
          "data": {
            "text/plain": [
              "24"
            ]
          },
          "metadata": {},
          "execution_count": 25
        }
      ]
    },
    {
      "cell_type": "code",
      "source": [
        "types"
      ],
      "metadata": {
        "colab": {
          "base_uri": "https://localhost:8080/",
          "height": 0
        },
        "id": "Rwy1zZGpnzx-",
        "outputId": "ebed644f-86d1-4810-afe8-20d08a49937a"
      },
      "execution_count": 23,
      "outputs": [
        {
          "output_type": "execute_result",
          "data": {
            "text/plain": [
              "dtype('float64')"
            ]
          },
          "metadata": {},
          "execution_count": 23
        }
      ]
    },
    {
      "cell_type": "code",
      "source": [
        "#slicing\n",
        "arr = data[0]\n"
      ],
      "metadata": {
        "id": "XnXg2Hk3oJ7s"
      },
      "execution_count": 26,
      "outputs": []
    },
    {
      "cell_type": "code",
      "source": [
        "arr"
      ],
      "metadata": {
        "colab": {
          "base_uri": "https://localhost:8080/",
          "height": 0
        },
        "id": "wWylZQnyoUUO",
        "outputId": "5364b91b-0f58-407f-af83-dac4bb62c960"
      },
      "execution_count": 27,
      "outputs": [
        {
          "output_type": "execute_result",
          "data": {
            "text/plain": [
              "array([[0.92082538, 0.30203459, 0.42350625, 0.31173044],\n",
              "       [0.60872694, 0.3835505 , 0.3352022 , 0.54129841],\n",
              "       [0.43483467, 0.17100058, 0.71421267, 0.75991972]])"
            ]
          },
          "metadata": {},
          "execution_count": 27
        }
      ]
    },
    {
      "cell_type": "code",
      "source": [
        "slicer = data[0:2]"
      ],
      "metadata": {
        "id": "c4OB3snmobgO"
      },
      "execution_count": 29,
      "outputs": []
    },
    {
      "cell_type": "code",
      "source": [
        "slicer"
      ],
      "metadata": {
        "colab": {
          "base_uri": "https://localhost:8080/",
          "height": 0
        },
        "id": "VkHKVryBogRg",
        "outputId": "ed37250a-8138-437a-ebf1-4083733f14e5"
      },
      "execution_count": 30,
      "outputs": [
        {
          "output_type": "execute_result",
          "data": {
            "text/plain": [
              "array([[[0.92082538, 0.30203459, 0.42350625, 0.31173044],\n",
              "        [0.60872694, 0.3835505 , 0.3352022 , 0.54129841],\n",
              "        [0.43483467, 0.17100058, 0.71421267, 0.75991972]],\n",
              "\n",
              "       [[0.99444724, 0.15981081, 0.95880542, 0.45339381],\n",
              "        [0.3333393 , 0.67377029, 0.08132477, 0.12934951],\n",
              "        [0.78967047, 0.27825362, 0.14327686, 0.78422897]]])"
            ]
          },
          "metadata": {},
          "execution_count": 30
        }
      ]
    },
    {
      "cell_type": "code",
      "source": [
        "reverse = data[-1]"
      ],
      "metadata": {
        "id": "AjvZS1Rrok0r"
      },
      "execution_count": 33,
      "outputs": []
    },
    {
      "cell_type": "code",
      "source": [
        "reverse"
      ],
      "metadata": {
        "colab": {
          "base_uri": "https://localhost:8080/",
          "height": 0
        },
        "id": "VM-qh4hmpX0i",
        "outputId": "72f44d2e-48ec-4f7d-8a88-f9e6187b02c3"
      },
      "execution_count": 34,
      "outputs": [
        {
          "output_type": "execute_result",
          "data": {
            "text/plain": [
              "array([[0.99444724, 0.15981081, 0.95880542, 0.45339381],\n",
              "       [0.3333393 , 0.67377029, 0.08132477, 0.12934951],\n",
              "       [0.78967047, 0.27825362, 0.14327686, 0.78422897]])"
            ]
          },
          "metadata": {},
          "execution_count": 34
        }
      ]
    },
    {
      "cell_type": "code",
      "source": [
        "singlevel = data[0][0][2]"
      ],
      "metadata": {
        "id": "6bKn0KOjpf_G"
      },
      "execution_count": 37,
      "outputs": []
    },
    {
      "cell_type": "code",
      "source": [
        "singlevel"
      ],
      "metadata": {
        "colab": {
          "base_uri": "https://localhost:8080/",
          "height": 0
        },
        "id": "AUMkf4KzpnNz",
        "outputId": "0e27dc77-e919-4bbd-ea31-6247c0fb5463"
      },
      "execution_count": 38,
      "outputs": [
        {
          "output_type": "execute_result",
          "data": {
            "text/plain": [
              "np.float64(0.42350624975862006)"
            ]
          },
          "metadata": {},
          "execution_count": 38
        }
      ]
    },
    {
      "cell_type": "code",
      "source": [
        "#update\n",
        "#create two lists\n",
        "list1 = np.random.rand(10)\n",
        "list2 = np.random.rand(10)\n"
      ],
      "metadata": {
        "id": "FfJwP6t0qKfJ"
      },
      "execution_count": 39,
      "outputs": []
    },
    {
      "cell_type": "code",
      "source": [
        "list1"
      ],
      "metadata": {
        "colab": {
          "base_uri": "https://localhost:8080/",
          "height": 0
        },
        "id": "D6HfuFq0qmCF",
        "outputId": "6f952f69-f137-46ca-c2ab-9e156d6df9f9"
      },
      "execution_count": 40,
      "outputs": [
        {
          "output_type": "execute_result",
          "data": {
            "text/plain": [
              "array([0.51673968, 0.43519005, 0.49473487, 0.5835743 , 0.32206621,\n",
              "       0.48682953, 0.36792418, 0.46680702, 0.81401197, 0.71013861])"
            ]
          },
          "metadata": {},
          "execution_count": 40
        }
      ]
    },
    {
      "cell_type": "code",
      "source": [
        "list2"
      ],
      "metadata": {
        "colab": {
          "base_uri": "https://localhost:8080/",
          "height": 0
        },
        "id": "jI0wsKXWqonC",
        "outputId": "e1826b6f-663f-4b51-b570-254370548326"
      },
      "execution_count": 42,
      "outputs": [
        {
          "output_type": "execute_result",
          "data": {
            "text/plain": [
              "array([0.90105298, 0.557834  , 0.74640659, 0.19433801, 0.90892472,\n",
              "       0.17148776, 0.4475901 , 0.42665979, 0.16462528, 0.4756078 ])"
            ]
          },
          "metadata": {},
          "execution_count": 42
        }
      ]
    },
    {
      "cell_type": "code",
      "source": [
        "#basic math\n",
        "add= np.add(list1,list2)\n",
        "sub = np.subtract(list1,list2)\n",
        "div = np.divide(list1,list2)\n",
        "mult = np.multiply(list1,list2)\n"
      ],
      "metadata": {
        "id": "l2M99O9TqrkO"
      },
      "execution_count": 46,
      "outputs": []
    },
    {
      "cell_type": "code",
      "source": [
        "add"
      ],
      "metadata": {
        "colab": {
          "base_uri": "https://localhost:8080/",
          "height": 0
        },
        "id": "95_NPy8Bq7wD",
        "outputId": "dcddf9a1-2425-4cc3-8f02-5602f48855af"
      },
      "execution_count": 44,
      "outputs": [
        {
          "output_type": "execute_result",
          "data": {
            "text/plain": [
              "array([1.41779267, 0.99302404, 1.24114146, 0.77791232, 1.23099093,\n",
              "       0.65831729, 0.81551428, 0.89346681, 0.97863725, 1.18574641])"
            ]
          },
          "metadata": {},
          "execution_count": 44
        }
      ]
    },
    {
      "cell_type": "code",
      "source": [
        "mult"
      ],
      "metadata": {
        "colab": {
          "base_uri": "https://localhost:8080/",
          "height": 0
        },
        "id": "3LlmYoBBrILd",
        "outputId": "c9df2f0b-4294-48cc-bcf6-668df7469fc3"
      },
      "execution_count": 47,
      "outputs": [
        {
          "output_type": "execute_result",
          "data": {
            "text/plain": [
              "array([0.46560983, 0.2427638 , 0.36927337, 0.11341067, 0.29273394,\n",
              "       0.0834853 , 0.16467922, 0.19916779, 0.13400695, 0.33774746])"
            ]
          },
          "metadata": {},
          "execution_count": 47
        }
      ]
    },
    {
      "cell_type": "code",
      "source": [
        "#stat function (saplem)\n",
        "sqrt = np.sqrt(25)\n",
        "ab = np.abs(-2)\n",
        "power = np.power(2,7)\n",
        "log = np.log(25)\n",
        "exp = np.exp([2,3])\n",
        "mins = np.min(list1)\n",
        "maxs = np.max(list1)"
      ],
      "metadata": {
        "id": "A-7IG4mfrPaX"
      },
      "execution_count": 48,
      "outputs": []
    },
    {
      "cell_type": "code",
      "source": [
        "maxs"
      ],
      "metadata": {
        "colab": {
          "base_uri": "https://localhost:8080/",
          "height": 0
        },
        "id": "q8zoDegErom0",
        "outputId": "46722148-17da-4863-b57d-f854d4dd338a"
      },
      "execution_count": 49,
      "outputs": [
        {
          "output_type": "execute_result",
          "data": {
            "text/plain": [
              "np.float64(0.814011974451467)"
            ]
          },
          "metadata": {},
          "execution_count": 49
        }
      ]
    },
    {
      "cell_type": "code",
      "source": [
        "data"
      ],
      "metadata": {
        "colab": {
          "base_uri": "https://localhost:8080/",
          "height": 0
        },
        "id": "mqh3qyYPrvrJ",
        "outputId": "e0ac6351-796c-48d3-d6c5-90e234287330"
      },
      "execution_count": 50,
      "outputs": [
        {
          "output_type": "execute_result",
          "data": {
            "text/plain": [
              "array([[[0.92082538, 0.30203459, 0.42350625, 0.31173044],\n",
              "        [0.60872694, 0.3835505 , 0.3352022 , 0.54129841],\n",
              "        [0.43483467, 0.17100058, 0.71421267, 0.75991972]],\n",
              "\n",
              "       [[0.99444724, 0.15981081, 0.95880542, 0.45339381],\n",
              "        [0.3333393 , 0.67377029, 0.08132477, 0.12934951],\n",
              "        [0.78967047, 0.27825362, 0.14327686, 0.78422897]]])"
            ]
          },
          "metadata": {},
          "execution_count": 50
        }
      ]
    },
    {
      "cell_type": "code",
      "source": [
        "#assign a new value\n",
        "data[0][0][0] = 800"
      ],
      "metadata": {
        "id": "PsAf-_lVr7LR"
      },
      "execution_count": 51,
      "outputs": []
    },
    {
      "cell_type": "code",
      "source": [
        "data"
      ],
      "metadata": {
        "colab": {
          "base_uri": "https://localhost:8080/",
          "height": 0
        },
        "id": "ltb0FGs9sEQn",
        "outputId": "449ce626-af77-48e2-89ff-53a03c58c5cc"
      },
      "execution_count": 52,
      "outputs": [
        {
          "output_type": "execute_result",
          "data": {
            "text/plain": [
              "array([[[8.00000000e+02, 3.02034588e-01, 4.23506250e-01, 3.11730444e-01],\n",
              "        [6.08726942e-01, 3.83550498e-01, 3.35202197e-01, 5.41298405e-01],\n",
              "        [4.34834667e-01, 1.71000575e-01, 7.14212670e-01, 7.59919720e-01]],\n",
              "\n",
              "       [[9.94447244e-01, 1.59810807e-01, 9.58805416e-01, 4.53393814e-01],\n",
              "        [3.33339296e-01, 6.73770293e-01, 8.13247667e-02, 1.29349510e-01],\n",
              "        [7.89670472e-01, 2.78253621e-01, 1.43276859e-01, 7.84228973e-01]]])"
            ]
          },
          "metadata": {},
          "execution_count": 52
        }
      ]
    },
    {
      "cell_type": "code",
      "source": [
        "#sort an array\n",
        "data.sort()"
      ],
      "metadata": {
        "id": "JKpMb-GrsO_4"
      },
      "execution_count": 53,
      "outputs": []
    },
    {
      "cell_type": "code",
      "source": [
        "data"
      ],
      "metadata": {
        "colab": {
          "base_uri": "https://localhost:8080/",
          "height": 0
        },
        "id": "3XbzXMXdsTci",
        "outputId": "1363991b-3d08-4d53-cf4c-2c15e79be47b"
      },
      "execution_count": 54,
      "outputs": [
        {
          "output_type": "execute_result",
          "data": {
            "text/plain": [
              "array([[[3.02034588e-01, 3.11730444e-01, 4.23506250e-01, 8.00000000e+02],\n",
              "        [3.35202197e-01, 3.83550498e-01, 5.41298405e-01, 6.08726942e-01],\n",
              "        [1.71000575e-01, 4.34834667e-01, 7.14212670e-01, 7.59919720e-01]],\n",
              "\n",
              "       [[1.59810807e-01, 4.53393814e-01, 9.58805416e-01, 9.94447244e-01],\n",
              "        [8.13247667e-02, 1.29349510e-01, 3.33339296e-01, 6.73770293e-01],\n",
              "        [1.43276859e-01, 2.78253621e-01, 7.84228973e-01, 7.89670472e-01]]])"
            ]
          },
          "metadata": {},
          "execution_count": 54
        }
      ]
    },
    {
      "cell_type": "code",
      "source": [
        "#data.sort(reverse=True) # This causes a TypeError\n",
        "data = np.sort(data, axis=-1)[:, :, ::-1]"
      ],
      "metadata": {
        "id": "DhINmuhmvxEl"
      },
      "execution_count": 67,
      "outputs": []
    },
    {
      "cell_type": "code",
      "source": [
        "data"
      ],
      "metadata": {
        "colab": {
          "base_uri": "https://localhost:8080/",
          "height": 0
        },
        "id": "0Z15LwEKwD1J",
        "outputId": "846f3183-889b-4b02-aef1-297c81976f71"
      },
      "execution_count": 68,
      "outputs": [
        {
          "output_type": "execute_result",
          "data": {
            "text/plain": [
              "array([[[8.00000000e+02, 4.23506250e-01, 3.83550498e-01, 3.35202197e-01,\n",
              "         3.11730444e-01, 3.02034588e-01],\n",
              "        [7.59919720e-01, 7.14212670e-01, 6.08726942e-01, 5.41298405e-01,\n",
              "         4.34834667e-01, 1.71000575e-01]],\n",
              "\n",
              "       [[9.94447244e-01, 9.58805416e-01, 4.53393814e-01, 1.59810807e-01,\n",
              "         1.29349510e-01, 8.13247667e-02],\n",
              "        [7.89670472e-01, 7.84228973e-01, 6.73770293e-01, 3.33339296e-01,\n",
              "         2.78253621e-01, 1.43276859e-01]]])"
            ]
          },
          "metadata": {},
          "execution_count": 68
        }
      ]
    },
    {
      "cell_type": "code",
      "source": [
        "opp = np.sort(data)\n",
        "opp[::-1]\n",
        "print(opp)"
      ],
      "metadata": {
        "colab": {
          "base_uri": "https://localhost:8080/"
        },
        "id": "hxTAvOf0w_QE",
        "outputId": "39df0f23-e729-4826-c37d-24033b462026"
      },
      "execution_count": 69,
      "outputs": [
        {
          "output_type": "stream",
          "name": "stdout",
          "text": [
            "[[[3.02034588e-01 3.11730444e-01 3.35202197e-01 3.83550498e-01\n",
            "   4.23506250e-01 8.00000000e+02]\n",
            "  [1.71000575e-01 4.34834667e-01 5.41298405e-01 6.08726942e-01\n",
            "   7.14212670e-01 7.59919720e-01]]\n",
            "\n",
            " [[8.13247667e-02 1.29349510e-01 1.59810807e-01 4.53393814e-01\n",
            "   9.58805416e-01 9.94447244e-01]\n",
            "  [1.43276859e-01 2.78253621e-01 3.33339296e-01 6.73770293e-01\n",
            "   7.84228973e-01 7.89670472e-01]]]\n"
          ]
        }
      ]
    },
    {
      "cell_type": "code",
      "source": [
        "data = data.reshape((2,2,-1))"
      ],
      "metadata": {
        "id": "aR5U2vZDsdzT"
      },
      "execution_count": 55,
      "outputs": []
    },
    {
      "cell_type": "code",
      "source": [
        "data"
      ],
      "metadata": {
        "colab": {
          "base_uri": "https://localhost:8080/",
          "height": 0
        },
        "id": "NS2mmm8wskmO",
        "outputId": "497a4de6-229d-4901-a9dc-b5cc1817ac29"
      },
      "execution_count": 56,
      "outputs": [
        {
          "output_type": "execute_result",
          "data": {
            "text/plain": [
              "array([[[3.02034588e-01, 3.11730444e-01, 4.23506250e-01, 8.00000000e+02,\n",
              "         3.35202197e-01, 3.83550498e-01],\n",
              "        [5.41298405e-01, 6.08726942e-01, 1.71000575e-01, 4.34834667e-01,\n",
              "         7.14212670e-01, 7.59919720e-01]],\n",
              "\n",
              "       [[1.59810807e-01, 4.53393814e-01, 9.58805416e-01, 9.94447244e-01,\n",
              "         8.13247667e-02, 1.29349510e-01],\n",
              "        [3.33339296e-01, 6.73770293e-01, 1.43276859e-01, 2.78253621e-01,\n",
              "         7.84228973e-01, 7.89670472e-01]]])"
            ]
          },
          "metadata": {},
          "execution_count": 56
        }
      ]
    },
    {
      "cell_type": "code",
      "source": [
        "#append\n",
        "zeros = np.zeros((8))\n",
        "print(zeros)\n",
        "zeros = np.append(zeros,[3,4])\n",
        "print(zeros)"
      ],
      "metadata": {
        "colab": {
          "base_uri": "https://localhost:8080/",
          "height": 0
        },
        "id": "KnGs5wiPstQr",
        "outputId": "d2d6b0cb-b9a8-483b-837d-e8aa1d5b4350"
      },
      "execution_count": 57,
      "outputs": [
        {
          "output_type": "stream",
          "name": "stdout",
          "text": [
            "[0. 0. 0. 0. 0. 0. 0. 0.]\n",
            "[0. 0. 0. 0. 0. 0. 0. 0. 3. 4.]\n"
          ]
        }
      ]
    },
    {
      "cell_type": "code",
      "source": [
        "zeros = np.insert(zeros,2,8)\n",
        "print(zeros)"
      ],
      "metadata": {
        "colab": {
          "base_uri": "https://localhost:8080/",
          "height": 0
        },
        "id": "RFtDai8XuMof",
        "outputId": "0d942a3a-2586-4da3-bbc5-26510d6fcff6"
      },
      "execution_count": 58,
      "outputs": [
        {
          "output_type": "stream",
          "name": "stdout",
          "text": [
            "[0. 0. 8. 0. 0. 0. 0. 0. 0. 3. 4.]\n"
          ]
        }
      ]
    },
    {
      "cell_type": "code",
      "source": [
        "#delete\n",
        "data"
      ],
      "metadata": {
        "colab": {
          "base_uri": "https://localhost:8080/",
          "height": 0
        },
        "id": "Jzn2gY4bucuf",
        "outputId": "721d8b6a-200a-4a98-c8b9-9411dc36fd96"
      },
      "execution_count": 59,
      "outputs": [
        {
          "output_type": "execute_result",
          "data": {
            "text/plain": [
              "array([[[3.02034588e-01, 3.11730444e-01, 4.23506250e-01, 8.00000000e+02,\n",
              "         3.35202197e-01, 3.83550498e-01],\n",
              "        [5.41298405e-01, 6.08726942e-01, 1.71000575e-01, 4.34834667e-01,\n",
              "         7.14212670e-01, 7.59919720e-01]],\n",
              "\n",
              "       [[1.59810807e-01, 4.53393814e-01, 9.58805416e-01, 9.94447244e-01,\n",
              "         8.13247667e-02, 1.29349510e-01],\n",
              "        [3.33339296e-01, 6.73770293e-01, 1.43276859e-01, 2.78253621e-01,\n",
              "         7.84228973e-01, 7.89670472e-01]]])"
            ]
          },
          "metadata": {},
          "execution_count": 59
        }
      ]
    },
    {
      "cell_type": "code",
      "source": [
        "np.delete(data,0,axis=1)"
      ],
      "metadata": {
        "colab": {
          "base_uri": "https://localhost:8080/",
          "height": 0
        },
        "id": "A7n0dRuZuhmr",
        "outputId": "f21cc057-59e8-45c5-85ff-ddc1c1b8375b"
      },
      "execution_count": 60,
      "outputs": [
        {
          "output_type": "execute_result",
          "data": {
            "text/plain": [
              "array([[[0.54129841, 0.60872694, 0.17100058, 0.43483467, 0.71421267,\n",
              "         0.75991972]],\n",
              "\n",
              "       [[0.3333393 , 0.67377029, 0.14327686, 0.27825362, 0.78422897,\n",
              "         0.78967047]]])"
            ]
          },
          "metadata": {},
          "execution_count": 60
        }
      ]
    },
    {
      "cell_type": "code",
      "source": [
        "#save an array\n",
        "np.save('new_array',data)"
      ],
      "metadata": {
        "id": "JLieU_J3uzYX"
      },
      "execution_count": 61,
      "outputs": []
    },
    {
      "cell_type": "code",
      "source": [
        "test = np.load('new_array.npy')"
      ],
      "metadata": {
        "id": "7Sf3DIlIvOS2"
      },
      "execution_count": 62,
      "outputs": []
    },
    {
      "cell_type": "code",
      "source": [
        "test"
      ],
      "metadata": {
        "colab": {
          "base_uri": "https://localhost:8080/",
          "height": 0
        },
        "id": "Qdmpahn2vT7L",
        "outputId": "ca6781f0-f050-427c-ac71-727caf26ab4d"
      },
      "execution_count": 63,
      "outputs": [
        {
          "output_type": "execute_result",
          "data": {
            "text/plain": [
              "array([[[3.02034588e-01, 3.11730444e-01, 4.23506250e-01, 8.00000000e+02,\n",
              "         3.35202197e-01, 3.83550498e-01],\n",
              "        [5.41298405e-01, 6.08726942e-01, 1.71000575e-01, 4.34834667e-01,\n",
              "         7.14212670e-01, 7.59919720e-01]],\n",
              "\n",
              "       [[1.59810807e-01, 4.53393814e-01, 9.58805416e-01, 9.94447244e-01,\n",
              "         8.13247667e-02, 1.29349510e-01],\n",
              "        [3.33339296e-01, 6.73770293e-01, 1.43276859e-01, 2.78253621e-01,\n",
              "         7.84228973e-01, 7.89670472e-01]]])"
            ]
          },
          "metadata": {},
          "execution_count": 63
        }
      ]
    }
  ]
}