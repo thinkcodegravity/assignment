{
  "nbformat": 4,
  "nbformat_minor": 0,
  "metadata": {
    "colab": {
      "provenance": [],
      "authorship_tag": "ABX9TyO9LxDNASg8870itAlCtTP1",
      "include_colab_link": true
    },
    "kernelspec": {
      "name": "python3",
      "display_name": "Python 3"
    },
    "language_info": {
      "name": "python"
    }
  },
  "cells": [
    {
      "cell_type": "markdown",
      "metadata": {
        "id": "view-in-github",
        "colab_type": "text"
      },
      "source": [
        "<a href=\"https://colab.research.google.com/github/thinkcodegravity/assignment/blob/main/MyCode.ipynb\" target=\"_parent\"><img src=\"https://colab.research.google.com/assets/colab-badge.svg\" alt=\"Open In Colab\"/></a>"
      ]
    },
    {
      "cell_type": "code",
      "execution_count": 1,
      "metadata": {
        "colab": {
          "base_uri": "https://localhost:8080/"
        },
        "id": "rW8ar5knVahe",
        "outputId": "c25a916f-f09b-4b18-c898-8a9d8db46d59"
      },
      "outputs": [
        {
          "output_type": "stream",
          "name": "stdout",
          "text": [
            "How old are you?100\n",
            "You are old enough to drive\n",
            "You have a license\n",
            "You do not have a car, but you can still drive\n"
          ]
        }
      ],
      "source": [
        "age = int(input(\"How old are you?\"))  #Ask human for age\n",
        "has_license = True\n",
        "has_car = False\n",
        "\n",
        "if age >= 18:\n",
        "  print(\"You are old enough to drive\")\n",
        "  if has_license:\n",
        "    print(\"You have a license\")\n",
        "  if has_car:\n",
        "    print(\"You have a car\")\n",
        "  else:\n",
        "      print(\"You do not have a car, but you can still drive\")\n",
        "else:\n",
        "  print(\"You are not old enough to drive\")\n"
      ]
    }
  ]
}